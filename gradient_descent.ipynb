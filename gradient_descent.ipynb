{
 "cells": [
  {
   "cell_type": "code",
   "execution_count": 3,
   "metadata": {},
   "outputs": [],
   "source": [
    "import pandas as pd\n",
    "import numpy as np"
   ]
  },
  {
   "cell_type": "code",
   "execution_count": 4,
   "metadata": {},
   "outputs": [],
   "source": [
    "x=np.arange(0,10)"
   ]
  },
  {
   "cell_type": "code",
   "execution_count": 5,
   "metadata": {},
   "outputs": [],
   "source": [
    "y=np.array([1,3,2,5,7,8,8,9,10,12])"
   ]
  },
  {
   "cell_type": "code",
   "execution_count": 6,
   "metadata": {},
   "outputs": [],
   "source": [
    "def find_slope(x,y,o0,o1):\n",
    "    slope0=0\n",
    "    slope1=0\n",
    "    m=len(x)\n",
    "    a=0.1\n",
    "    sum0=0\n",
    "    sum1=0\n",
    "    for i in range(0,len(x)):\n",
    "        sum0+=(o0+o1*x[i]-y[i])\n",
    "        sum1+=(o0+o1*x[i]-y[i])*x[i]\n",
    "    slope0=sum0/m\n",
    "    slope1=sum1/m\n",
    "    return (slope0,slope1)"
   ]
  },
  {
   "cell_type": "code",
   "execution_count": 7,
   "metadata": {},
   "outputs": [],
   "source": [
    "def linear_regression(x,y):\n",
    "    o1=0\n",
    "    o0=0\n",
    "    a=0.05\n",
    "    slope0,slope1=find_slope(x,y,o0,o1)\n",
    "    print(slope0,slope1)\n",
    "    while (slope0>=0.05 or slope0<=-0.05) or (slope1>=0.05 or slope1<=-0.05):\n",
    "        temp0=o0-a*slope0\n",
    "        temp1=o1-a*slope1\n",
    "        o0=temp0\n",
    "        o1=temp1\n",
    "        slope0,slope1=find_slope(x,y,o0,o1)\n",
    "        \n",
    "    temp0=o0-a*slope0\n",
    "    temp1=o1-a*slope1\n",
    "    o0=temp0\n",
    "    o1=temp1\n",
    "    print(slope0,slope1) \n",
    "    return (o0,o1)\n",
    "    "
   ]
  },
  {
   "cell_type": "code",
   "execution_count": 8,
   "metadata": {},
   "outputs": [
    {
     "name": "stdout",
     "output_type": "stream",
     "text": [
      "-6.5 -38.9\n",
      "-0.04957943709994415 0.007906667468797934\n"
     ]
    }
   ],
   "source": [
    "o1,o2=linear_regression(x,y)"
   ]
  },
  {
   "cell_type": "code",
   "execution_count": 9,
   "metadata": {},
   "outputs": [
    {
     "name": "stdout",
     "output_type": "stream",
     "text": [
      "1.063255461435846 1.1973033495863838\n"
     ]
    }
   ],
   "source": [
    "print(o1,o2)"
   ]
  },
  {
   "cell_type": "code",
   "execution_count": null,
   "metadata": {},
   "outputs": [],
   "source": []
  }
 ],
 "metadata": {
  "kernelspec": {
   "display_name": "Python 3",
   "language": "python",
   "name": "python3"
  },
  "language_info": {
   "codemirror_mode": {
    "name": "ipython",
    "version": 3
   },
   "file_extension": ".py",
   "mimetype": "text/x-python",
   "name": "python",
   "nbconvert_exporter": "python",
   "pygments_lexer": "ipython3",
   "version": "3.7.4"
  }
 },
 "nbformat": 4,
 "nbformat_minor": 2
}
