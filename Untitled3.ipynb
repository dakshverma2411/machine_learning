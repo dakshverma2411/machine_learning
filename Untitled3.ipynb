{
 "cells": [
  {
   "cell_type": "code",
   "execution_count": 23,
   "metadata": {},
   "outputs": [
    {
     "name": "stdout",
     "output_type": "stream",
     "text": [
      "1\n",
      "7 1\n",
      "2 3 4 1 2 3 2\n",
      "1 3 2\n",
      "1\n"
     ]
    }
   ],
   "source": [
    "import numpy as np\n",
    "t=int(input(\"\"))\n",
    "while t!=0:\n",
    "    n,q=tuple(map(int,input(\"\").split()))\n",
    "    arr=list(map(int,input(\"\").split()))\n",
    "    a=np.array(arr)\n",
    "    while q!=0:\n",
    "        x1,x2,y=tuple(map(int,input(\"\").split()))\n",
    "        count=0\n",
    "        b=a[0:]>=y\n",
    "        c=a[0:]==y\n",
    "        \n",
    "        for i in range(x1,x2):\n",
    "            if b[i]!=b[i-1]:\n",
    "                count+=1\n",
    "            else:\n",
    "                if (c[i]==True) or (c[i-1]==True):  \n",
    "                    count+=1                 \n",
    "        print(count)\n",
    "        q=q-1\n",
    "    t=t-1"
   ]
  },
  {
   "cell_type": "code",
   "execution_count": null,
   "metadata": {},
   "outputs": [],
   "source": []
  }
 ],
 "metadata": {
  "kernelspec": {
   "display_name": "Python 3",
   "language": "python",
   "name": "python3"
  },
  "language_info": {
   "codemirror_mode": {
    "name": "ipython",
    "version": 3
   },
   "file_extension": ".py",
   "mimetype": "text/x-python",
   "name": "python",
   "nbconvert_exporter": "python",
   "pygments_lexer": "ipython3",
   "version": "3.7.4"
  }
 },
 "nbformat": 4,
 "nbformat_minor": 2
}
