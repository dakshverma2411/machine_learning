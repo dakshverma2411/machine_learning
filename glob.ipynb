{
 "cells": [
  {
   "cell_type": "code",
   "execution_count": 1,
   "metadata": {},
   "outputs": [],
   "source": [
    "import glob"
   ]
  },
  {
   "cell_type": "code",
   "execution_count": null,
   "metadata": {},
   "outputs": [],
   "source": [
    "# glob is a module of python that allows to track patterns in path of files"
   ]
  },
  {
   "cell_type": "code",
   "execution_count": 11,
   "metadata": {},
   "outputs": [
    {
     "data": {
      "text/plain": [
       "['C:\\\\Users\\\\Daksh\\\\Untitled Folder\\\\neural_network']"
      ]
     },
     "execution_count": 11,
     "metadata": {},
     "output_type": "execute_result"
    }
   ],
   "source": [
    "glob.glob('C:\\\\Users\\\\Daksh\\\\Untitled Folder\\\\neural_network')"
   ]
  },
  {
   "cell_type": "markdown",
   "metadata": {},
   "source": [
    "# using * "
   ]
  },
  {
   "cell_type": "code",
   "execution_count": 27,
   "metadata": {},
   "outputs": [
    {
     "data": {
      "text/plain": [
       "['C:\\\\Users\\\\Daksh\\\\Untitled Folder\\\\neural_network\\\\aa.jpg',\n",
       " 'C:\\\\Users\\\\Daksh\\\\Untitled Folder\\\\neural_network\\\\adam_with_mini_batch.ipynb',\n",
       " 'C:\\\\Users\\\\Daksh\\\\Untitled Folder\\\\neural_network\\\\batch_norm.ipynb',\n",
       " 'C:\\\\Users\\\\Daksh\\\\Untitled Folder\\\\neural_network\\\\data.csv',\n",
       " 'C:\\\\Users\\\\Daksh\\\\Untitled Folder\\\\neural_network\\\\framingham.csv',\n",
       " 'C:\\\\Users\\\\Daksh\\\\Untitled Folder\\\\neural_network\\\\heart-disease-prediction-using-logistic-regression.zip',\n",
       " 'C:\\\\Users\\\\Daksh\\\\Untitled Folder\\\\neural_network\\\\mini_batch.ipynb',\n",
       " 'C:\\\\Users\\\\Daksh\\\\Untitled Folder\\\\neural_network\\\\neural_network_with_regularization.ipynb',\n",
       " 'C:\\\\Users\\\\Daksh\\\\Untitled Folder\\\\neural_network\\\\playing_with_matplotlib.ipynb',\n",
       " 'C:\\\\Users\\\\Daksh\\\\Untitled Folder\\\\neural_network\\\\Untitled.ipynb']"
      ]
     },
     "execution_count": 27,
     "metadata": {},
     "output_type": "execute_result"
    }
   ],
   "source": [
    "glob.glob('C:\\\\Users\\\\Daksh\\\\Untitled Folder\\\\neural_network\\\\*') # return all the files in particular directory"
   ]
  },
  {
   "cell_type": "code",
   "execution_count": 26,
   "metadata": {
    "scrolled": true
   },
   "outputs": [
    {
     "data": {
      "text/plain": [
       "['C:\\\\Users\\\\Daksh\\\\Untitled Folder\\\\neural_network\\\\data.csv',\n",
       " 'C:\\\\Users\\\\Daksh\\\\Untitled Folder\\\\neural_network\\\\framingham.csv']"
      ]
     },
     "execution_count": 26,
     "metadata": {},
     "output_type": "execute_result"
    }
   ],
   "source": [
    "glob.glob('C:\\\\Users\\\\Daksh\\\\Untitled Folder\\\\neural_network\\\\*.csv') # return all csv the files in particular directory"
   ]
  },
  {
   "cell_type": "code",
   "execution_count": 25,
   "metadata": {
    "scrolled": true
   },
   "outputs": [
    {
     "data": {
      "text/plain": [
       "['C:\\\\Users\\\\Daksh\\\\Untitled Folder\\\\neural_network\\\\aa.jpg']"
      ]
     },
     "execution_count": 25,
     "metadata": {},
     "output_type": "execute_result"
    }
   ],
   "source": [
    "glob.glob('C:\\\\Users\\\\Daksh\\\\Untitled Folder\\\\neural_network\\\\*.jpg') # return all .jpg the files in particular directory"
   ]
  },
  {
   "cell_type": "code",
   "execution_count": 28,
   "metadata": {},
   "outputs": [
    {
     "data": {
      "text/plain": [
       "['C:\\\\Users\\\\Daksh\\\\Untitled Folder\\\\neural_network\\\\aa.jpg']"
      ]
     },
     "execution_count": 28,
     "metadata": {},
     "output_type": "execute_result"
    }
   ],
   "source": [
    "glob.glob('C:\\\\Users\\\\Daksh\\\\Untitled Folder\\\\neural_network\\\\aa.*') # return all type of files named aa in particular directory"
   ]
  },
  {
   "cell_type": "code",
   "execution_count": 30,
   "metadata": {},
   "outputs": [
    {
     "data": {
      "text/plain": [
       "['C:\\\\Users\\\\Daksh\\\\Untitled Folder\\\\neural_network\\\\aa.jpg',\n",
       " 'C:\\\\Users\\\\Daksh\\\\Untitled Folder\\\\neural_network\\\\adam_with_mini_batch.ipynb']"
      ]
     },
     "execution_count": 30,
     "metadata": {},
     "output_type": "execute_result"
    }
   ],
   "source": [
    "glob.glob('C:\\\\Users\\\\Daksh\\\\Untitled Folder\\\\neural_network\\\\a*.*') # return all the files starting with a in particular directory"
   ]
  },
  {
   "cell_type": "code",
   "execution_count": 32,
   "metadata": {},
   "outputs": [
    {
     "data": {
      "text/plain": [
       "['C:\\\\Users\\\\Daksh\\\\Untitled Folder\\\\neural_network\\\\mini_batch.ipynb']"
      ]
     },
     "execution_count": 32,
     "metadata": {},
     "output_type": "execute_result"
    }
   ],
   "source": [
    "glob.glob('C:\\\\Users\\\\Daksh\\\\Untitled Folder\\\\neural_network\\\\mini*.ipynb') # return all.ipynb files that start with mini in particular directory"
   ]
  },
  {
   "cell_type": "markdown",
   "metadata": {},
   "source": [
    "\n",
    "# using ?"
   ]
  },
  {
   "cell_type": "code",
   "execution_count": 35,
   "metadata": {
    "scrolled": false
   },
   "outputs": [
    {
     "data": {
      "text/plain": [
       "['C:\\\\Users\\\\Daksh\\\\Untitled Folder\\\\neural_network\\\\data.csv']"
      ]
     },
     "execution_count": 35,
     "metadata": {},
     "output_type": "execute_result"
    }
   ],
   "source": [
    "glob.glob('C:\\\\Users\\\\Daksh\\\\Untitled Folder\\\\neural_network\\\\????.*') # return all the files whose name has 4 letters"
   ]
  },
  {
   "cell_type": "code",
   "execution_count": 37,
   "metadata": {
    "scrolled": true
   },
   "outputs": [
    {
     "data": {
      "text/plain": [
       "['C:\\\\Users\\\\Daksh\\\\Untitled Folder\\\\neural_network\\\\aa.jpg']"
      ]
     },
     "execution_count": 37,
     "metadata": {},
     "output_type": "execute_result"
    }
   ],
   "source": [
    "glob.glob('C:\\\\Users\\\\Daksh\\\\Untitled Folder\\\\neural_network\\\\a?.*') # return all the files whose name start with a and has one more letter letters"
   ]
  },
  {
   "cell_type": "code",
   "execution_count": 39,
   "metadata": {},
   "outputs": [
    {
     "data": {
      "text/plain": [
       "['C:\\\\Users\\\\Daksh\\\\Untitled Folder\\\\neural_network\\\\data.csv']"
      ]
     },
     "execution_count": 39,
     "metadata": {},
     "output_type": "execute_result"
    }
   ],
   "source": [
    "glob.glob('C:\\\\Users\\\\Daksh\\\\Untitled Folder\\\\neural_network\\\\???a.*') # return all the files whose name ends with a and has 4 letters in total"
   ]
  },
  {
   "cell_type": "markdown",
   "metadata": {},
   "source": [
    "# using []"
   ]
  },
  {
   "cell_type": "code",
   "execution_count": 46,
   "metadata": {},
   "outputs": [
    {
     "data": {
      "text/plain": [
       "['C:\\\\Users\\\\Daksh\\\\Untitled Folder\\\\neural_network\\\\aa.jpg',\n",
       " 'C:\\\\Users\\\\Daksh\\\\Untitled Folder\\\\neural_network\\\\adam_with_mini_batch.ipynb',\n",
       " 'C:\\\\Users\\\\Daksh\\\\Untitled Folder\\\\neural_network\\\\batch_norm.ipynb',\n",
       " 'C:\\\\Users\\\\Daksh\\\\Untitled Folder\\\\neural_network\\\\data.csv',\n",
       " 'C:\\\\Users\\\\Daksh\\\\Untitled Folder\\\\neural_network\\\\framingham.csv',\n",
       " 'C:\\\\Users\\\\Daksh\\\\Untitled Folder\\\\neural_network\\\\heart-disease-prediction-using-logistic-regression.zip']"
      ]
     },
     "execution_count": 46,
     "metadata": {},
     "output_type": "execute_result"
    }
   ],
   "source": [
    "glob.glob('C:\\\\Users\\\\Daksh\\\\Untitled Folder\\\\neural_network\\\\[a-h]*.*') # return all the files whose name has initial letters from a to h (both included)"
   ]
  },
  {
   "cell_type": "code",
   "execution_count": 47,
   "metadata": {},
   "outputs": [
    {
     "data": {
      "text/plain": [
       "[]"
      ]
     },
     "execution_count": 47,
     "metadata": {},
     "output_type": "execute_result"
    }
   ],
   "source": [
    "glob.glob('C:\\\\Users\\\\Daksh\\\\Untitled Folder\\\\neural_network\\\\[0-9]*.*') # return all the files whose name starts with a digit"
   ]
  },
  {
   "cell_type": "code",
   "execution_count": null,
   "metadata": {},
   "outputs": [],
   "source": []
  },
  {
   "cell_type": "code",
   "execution_count": 7,
   "metadata": {},
   "outputs": [
    {
     "data": {
      "text/plain": [
       "'C:\\\\Users\\\\Daksh\\\\Untitled Folder'"
      ]
     },
     "execution_count": 7,
     "metadata": {},
     "output_type": "execute_result"
    }
   ],
   "source": [
    "os.getcwd()"
   ]
  },
  {
   "cell_type": "code",
   "execution_count": null,
   "metadata": {},
   "outputs": [],
   "source": []
  }
 ],
 "metadata": {
  "kernelspec": {
   "display_name": "Python 3",
   "language": "python",
   "name": "python3"
  },
  "language_info": {
   "codemirror_mode": {
    "name": "ipython",
    "version": 3
   },
   "file_extension": ".py",
   "mimetype": "text/x-python",
   "name": "python",
   "nbconvert_exporter": "python",
   "pygments_lexer": "ipython3",
   "version": "3.7.4"
  }
 },
 "nbformat": 4,
 "nbformat_minor": 2
}
