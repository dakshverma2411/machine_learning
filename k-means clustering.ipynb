{
 "cells": [
  {
   "cell_type": "code",
   "execution_count": 2,
   "metadata": {},
   "outputs": [],
   "source": [
    "import numpy as np\n",
    "import pandas as pd\n",
    "import matplotlib.pyplot as plt\n",
    "import seaborn as sns\n"
   ]
  },
  {
   "cell_type": "code",
   "execution_count": 5,
   "metadata": {},
   "outputs": [],
   "source": [
    "def distance(x,y):\n",
    "    assert(x.shape==y.shape)\n",
    "    return np.sum(np.square(x-y))\n",
    "    "
   ]
  },
  {
   "cell_type": "code",
   "execution_count": 38,
   "metadata": {},
   "outputs": [],
   "source": [
    "def random_initialization(X,K):\n",
    "    l=len(X);\n",
    "    n=len(X[0])\n",
    "    indexes=np.random.randint(0,l,K) # indexes of random selected \n",
    "    means=np.zeros((K,n))\n",
    "    for i in range(K):\n",
    "        means[i]=X[indexes[i]]\n",
    "    return means\n",
    "        \n",
    "    "
   ]
  },
  {
   "cell_type": "code",
   "execution_count": 50,
   "metadata": {},
   "outputs": [],
   "source": [
    "def cluster(means,X):\n",
    "    m,n=X.shape\n",
    "    K=len(means)\n",
    "    C=np.zeros((m,1))\n",
    "    for i in range(m):\n",
    "        min_distance=10000000\n",
    "        min_index=0\n",
    "        for j in range(K):\n",
    "            dist=distance(X[i],means[j])\n",
    "            if dist<min_distance:\n",
    "                min_distance=dist\n",
    "                min_index=j\n",
    "        C[i][0]=min_index\n",
    "    return C\n",
    "            \n",
    "        "
   ]
  },
  {
   "cell_type": "code",
   "execution_count": 28,
   "metadata": {},
   "outputs": [],
   "source": [
    "def costfun(X,C,means,K):\n",
    "    m,n=X.shape\n",
    "    sum=0\n",
    "    for i in range(m):\n",
    "        sum+=distance(X[i],means[int(C[i])])\n",
    "    return sum/m\n",
    "        \n",
    "    "
   ]
  },
  {
   "cell_type": "code",
   "execution_count": 64,
   "metadata": {},
   "outputs": [],
   "source": [
    "def kmeans(X,K,iterations):\n",
    "#     means=random_initialization(X,K)\n",
    "    means=np.array([[2,4],[4,1.5]])\n",
    "    m,n=X.shape\n",
    "    C=cluster(means,X)\n",
    "    print(C)\n",
    "    costs=[]\n",
    "    costs.append(costfun(X,C,means,K))\n",
    "    for l in range(iterations):\n",
    "        print(l)\n",
    "        for i in range(K):\n",
    "            sum=np.zeros((1,n))\n",
    "            count=0\n",
    "            for j in range(m):\n",
    "                if C[j]==i:\n",
    "                    sum+=X[j]\n",
    "                    count+=1\n",
    "            means[i]=sum/count\n",
    "        C=cluster(means,X)\n",
    "        costs.append(costfun(X,C,means,K))\n",
    "    return (means,costs)\n",
    "        \n",
    "\n",
    "        \n",
    "    "
   ]
  },
  {
   "cell_type": "code",
   "execution_count": 65,
   "metadata": {},
   "outputs": [],
   "source": [
    "X=np.array([[1,1],[1,2],[2,1],[2,1.5],[4,4],[5,4],[5.5,4],[4,7.5]])"
   ]
  },
  {
   "cell_type": "code",
   "execution_count": 66,
   "metadata": {},
   "outputs": [
    {
     "name": "stdout",
     "output_type": "stream",
     "text": [
      "[[1.]\n",
      " [0.]\n",
      " [1.]\n",
      " [1.]\n",
      " [0.]\n",
      " [1.]\n",
      " [1.]\n",
      " [0.]]\n",
      "0\n",
      "1\n",
      "2\n",
      "3\n",
      "4\n",
      "5\n",
      "6\n",
      "7\n",
      "8\n",
      "9\n",
      "10\n",
      "11\n",
      "12\n",
      "13\n",
      "14\n",
      "15\n",
      "16\n",
      "17\n",
      "18\n",
      "19\n",
      "20\n",
      "21\n",
      "22\n",
      "23\n",
      "24\n",
      "25\n",
      "26\n",
      "27\n",
      "28\n",
      "29\n",
      "30\n",
      "31\n",
      "32\n",
      "33\n",
      "34\n",
      "35\n",
      "36\n",
      "37\n",
      "38\n",
      "39\n",
      "40\n",
      "41\n",
      "42\n",
      "43\n",
      "44\n",
      "45\n",
      "46\n",
      "47\n",
      "48\n",
      "49\n",
      "50\n",
      "51\n",
      "52\n",
      "53\n",
      "54\n",
      "55\n",
      "56\n",
      "57\n",
      "58\n",
      "59\n",
      "60\n",
      "61\n",
      "62\n",
      "63\n",
      "64\n",
      "65\n",
      "66\n",
      "67\n",
      "68\n",
      "69\n",
      "70\n",
      "71\n",
      "72\n",
      "73\n",
      "74\n",
      "75\n",
      "76\n",
      "77\n",
      "78\n",
      "79\n",
      "80\n",
      "81\n",
      "82\n",
      "83\n",
      "84\n",
      "85\n",
      "86\n",
      "87\n",
      "88\n",
      "89\n",
      "90\n",
      "91\n",
      "92\n",
      "93\n",
      "94\n",
      "95\n",
      "96\n",
      "97\n",
      "98\n",
      "99\n"
     ]
    }
   ],
   "source": [
    "means,j=kmeans(X,2,100)"
   ]
  },
  {
   "cell_type": "code",
   "execution_count": 67,
   "metadata": {},
   "outputs": [
    {
     "data": {
      "text/plain": [
       "array([[4.625, 4.875],\n",
       "       [1.5  , 1.375]])"
      ]
     },
     "execution_count": 67,
     "metadata": {},
     "output_type": "execute_result"
    }
   ],
   "source": [
    "means"
   ]
  },
  {
   "cell_type": "code",
   "execution_count": 68,
   "metadata": {},
   "outputs": [
    {
     "data": {
      "text/plain": [
       "[7.3125,\n",
       " 4.66875,\n",
       " 1.5703125,\n",
       " 1.5703125,\n",
       " 1.5703125,\n",
       " 1.5703125,\n",
       " 1.5703125,\n",
       " 1.5703125,\n",
       " 1.5703125,\n",
       " 1.5703125,\n",
       " 1.5703125,\n",
       " 1.5703125,\n",
       " 1.5703125,\n",
       " 1.5703125,\n",
       " 1.5703125,\n",
       " 1.5703125,\n",
       " 1.5703125,\n",
       " 1.5703125,\n",
       " 1.5703125,\n",
       " 1.5703125,\n",
       " 1.5703125,\n",
       " 1.5703125,\n",
       " 1.5703125,\n",
       " 1.5703125,\n",
       " 1.5703125,\n",
       " 1.5703125,\n",
       " 1.5703125,\n",
       " 1.5703125,\n",
       " 1.5703125,\n",
       " 1.5703125,\n",
       " 1.5703125,\n",
       " 1.5703125,\n",
       " 1.5703125,\n",
       " 1.5703125,\n",
       " 1.5703125,\n",
       " 1.5703125,\n",
       " 1.5703125,\n",
       " 1.5703125,\n",
       " 1.5703125,\n",
       " 1.5703125,\n",
       " 1.5703125,\n",
       " 1.5703125,\n",
       " 1.5703125,\n",
       " 1.5703125,\n",
       " 1.5703125,\n",
       " 1.5703125,\n",
       " 1.5703125,\n",
       " 1.5703125,\n",
       " 1.5703125,\n",
       " 1.5703125,\n",
       " 1.5703125,\n",
       " 1.5703125,\n",
       " 1.5703125,\n",
       " 1.5703125,\n",
       " 1.5703125,\n",
       " 1.5703125,\n",
       " 1.5703125,\n",
       " 1.5703125,\n",
       " 1.5703125,\n",
       " 1.5703125,\n",
       " 1.5703125,\n",
       " 1.5703125,\n",
       " 1.5703125,\n",
       " 1.5703125,\n",
       " 1.5703125,\n",
       " 1.5703125,\n",
       " 1.5703125,\n",
       " 1.5703125,\n",
       " 1.5703125,\n",
       " 1.5703125,\n",
       " 1.5703125,\n",
       " 1.5703125,\n",
       " 1.5703125,\n",
       " 1.5703125,\n",
       " 1.5703125,\n",
       " 1.5703125,\n",
       " 1.5703125,\n",
       " 1.5703125,\n",
       " 1.5703125,\n",
       " 1.5703125,\n",
       " 1.5703125,\n",
       " 1.5703125,\n",
       " 1.5703125,\n",
       " 1.5703125,\n",
       " 1.5703125,\n",
       " 1.5703125,\n",
       " 1.5703125,\n",
       " 1.5703125,\n",
       " 1.5703125,\n",
       " 1.5703125,\n",
       " 1.5703125,\n",
       " 1.5703125,\n",
       " 1.5703125,\n",
       " 1.5703125,\n",
       " 1.5703125,\n",
       " 1.5703125,\n",
       " 1.5703125,\n",
       " 1.5703125,\n",
       " 1.5703125,\n",
       " 1.5703125,\n",
       " 1.5703125]"
      ]
     },
     "execution_count": 68,
     "metadata": {},
     "output_type": "execute_result"
    }
   ],
   "source": [
    "j"
   ]
  },
  {
   "cell_type": "code",
   "execution_count": 63,
   "metadata": {},
   "outputs": [
    {
     "data": {
      "text/plain": [
       "[<matplotlib.lines.Line2D at 0x1d877bb9788>]"
      ]
     },
     "execution_count": 63,
     "metadata": {},
     "output_type": "execute_result"
    },
    {
     "data": {
      "image/png": "[encoded data removed]",
      "text/plain": [
       "<Figure size 576x576 with 1 Axes>"
      ]
     },
     "metadata": {
      "needs_background": "light"
     },
     "output_type": "display_data"
    }
   ],
   "source": [
    "fig=plt.figure(figsize=(8,8))\n",
    "axes=fig.add_axes([0,0,1,1])\n",
    "axes.plot([1,1,2,2,4,5,5.5,4],[1,2,1,1.5,4,4,4,5.5],marker=\"o\",ls=\" \")\n",
    "# [1,2,1,1.5,6,6,6,7.5]\n",
    "# [1,1,2,2,6,7,7.5,6]"
   ]
  },
  {
   "cell_type": "code",
   "execution_count": null,
   "metadata": {},
   "outputs": [],
   "source": []
  }
 ],
 "metadata": {
  "kernelspec": {
   "display_name": "Python 3",
   "language": "python",
   "name": "python3"
  },
  "language_info": {
   "codemirror_mode": {
    "name": "ipython",
    "version": 3
   },
   "file_extension": ".py",
   "mimetype": "text/x-python",
   "name": "python",
   "nbconvert_exporter": "python",
   "pygments_lexer": "ipython3",
   "version": "3.7.4"
  }
 },
 "nbformat": 4,
 "nbformat_minor": 2
}
