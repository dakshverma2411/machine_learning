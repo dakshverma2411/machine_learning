{
 "cells": [
  {
   "cell_type": "code",
   "execution_count": 1,
   "metadata": {},
   "outputs": [],
   "source": [
    "import pandas as pd\n",
    "import numpy as np\n",
    "import matplotlib.pyplot as plt\n",
    "import seaborn as sns\n",
    "%matplotlib inline"
   ]
  },
  {
   "cell_type": "code",
   "execution_count": 2,
   "metadata": {},
   "outputs": [],
   "source": [
    "def relu(z):\n",
    "    if z>=0:\n",
    "        return z\n",
    "    else:\n",
    "        return 0\n",
    "    "
   ]
  },
  {
   "cell_type": "code",
   "execution_count": 3,
   "metadata": {},
   "outputs": [],
   "source": [
    "def sigmoid(z):\n",
    "    return 1/(1+np.exp(-z))\n"
   ]
  },
  {
   "cell_type": "code",
   "execution_count": 4,
   "metadata": {},
   "outputs": [],
   "source": [
    "def derivative_relu(z):\n",
    "    if z>=0:\n",
    "        return 1\n",
    "    else:\n",
    "        return 0"
   ]
  },
  {
   "cell_type": "code",
   "execution_count": 5,
   "metadata": {},
   "outputs": [],
   "source": [
    "def derivative_sigmoid(z):\n",
    "    return np.multiply(sigmoid(z),(1-sigmoid(z)))\n"
   ]
  },
  {
   "cell_type": "code",
   "execution_count": 27,
   "metadata": {},
   "outputs": [],
   "source": [
    "def initialize_weights(layers,N):\n",
    "    assert(layers==len(N)-1)\n",
    "    W=[np.random.rand(N[0],1)]\n",
    "    B=[np.random.rand(N[0],1)]\n",
    "    for i in range(1,layers+1):\n",
    "        W.append(np.random.randn(N[i],N[i-1]))\n",
    "        B.append(np.random.randn(N[i],1))\n",
    "    assert(len(W)==layers+1)\n",
    "    return W,B"
   ]
  },
  {
   "cell_type": "code",
   "execution_count": 1,
   "metadata": {},
   "outputs": [],
   "source": [
    "def propagate(X_train,Y_train,W,B,layers):\n",
    "\n",
    "    m=X_train.shape[1]\n",
    "    A=[X_train]\n",
    "    Z=[None]\n",
    "#   Forward prop starts here\n",
    "    for i in range(layers-1):\n",
    "        Z.append(np.dot(W[i+1],A[i])+B[i])\n",
    "        A.append(relu(Z[i+1]))\n",
    "    Z.append(np.dot(W[layers],A[layers-1])+B[layers])\n",
    "    assert(len(Z)==layers+1)\n",
    "    A.append(sigmoid(Z[layers]))\n",
    "    assert(A[-1].shape==Y_train.shape)\n",
    "    cost=(-1/m)*np.sum((Y_train)*(np.log(A[-1]))+(1-Y_train)*(np.log(1-A[-1])))\n",
    "    \n",
    "    \n",
    "        \n",
    "#     Backprop starts here\n",
    "\n",
    "    DZ=[None for k in range(layers+1)]\n",
    "    DW=[None for k in range(layers+1)]\n",
    "    DB=[None for k in range(layers+1)]\n",
    "    assert(len(DZ)==layers+1)\n",
    "\n",
    "    DZ[layer]=A[layer]-Y_train\n",
    "    DW[layer]=(1/m)*np.dot(DZ[layers],A[layers-1].T)\n",
    "    DB[layer]=(1/m)*np.sum(DZ[layers],axis=1,keepdims=True)\n",
    "    \n",
    "    for i in range(layer-1,0,-1):\n",
    "        DZ[i]=np.dot(W[i+1].T,DZ[i+1])*derivative_relu(Z[i])\n",
    "        DW[i]=(1/m)*np.dot(DZ[i],A[i-1].T)\n",
    "        DB[i]=(1/m)*np.sum(DZ[i],axis=1,keepdims=True)\n",
    "    grads={'DW':DW,\"DB\":DB}\n",
    "    return grads,cost\n",
    "    "
   ]
  },
  {
   "cell_type": "code",
   "execution_count": 24,
   "metadata": {},
   "outputs": [],
   "source": [
    "def optimize(X_train,Y_train,W,B,learning_rate,iterations,layers):\n",
    "    assert(W[0]==None)\n",
    "    costs=[]\n",
    "    for i in range(iterations):\n",
    "        grads,cost=propagate(X_train,Y_train,W,B,layers)\n",
    "        DW=grads[\"DW\"]\n",
    "        DB=grads['DB']\n",
    "        temp1=[]\n",
    "        temp2=[]\n",
    "        for j in range(1,layers+1):\n",
    "            temp1.append(W[i]-learning_rate*DW[i])\n",
    "            temp2[i].append(B[i]-learning_rate*DB[i])\n",
    "        W=temp1\n",
    "        B=temp2\n",
    "        if i%100==0:\n",
    "            print(cost)\n",
    "            costs.append(cost)\n",
    "    d={\"costs\":costs,\"W\":W,\"B\":B}\n",
    "    return d\n",
    "            \n",
    "        \n",
    "        "
   ]
  },
  {
   "cell_type": "code",
   "execution_count": 23,
   "metadata": {},
   "outputs": [],
   "source": [
    "def predict(W,B,X_test,layers):\n",
    "    m=X_test.shape[1]\n",
    "    assert(W[0]==None)\n",
    "    A=[X_test]\n",
    "    Z=[None]\n",
    "#   Forward prop starts here\n",
    "    for i in range(layers-1):\n",
    "        Z.append(np.dot(W[i+1],A[i])+B[i])\n",
    "        A.append(relu(Z[i+1]))\n",
    "    Z.append(np.dot(W[layers],A[layers-1])+B[layers])\n",
    "    assert(len(Z)==layers+1)\n",
    "    A.append(sigmoid(Z[layers]))\n",
    "    Y_predict=np.zeros((1,m))\n",
    "    for i in range(m):\n",
    "        if A[-1][0,i]>=0.5:\n",
    "            Y_predict[0,i]=1\n",
    "        else:\n",
    "            Y_predict=0\n",
    "    return Y_predict\n",
    "    "
   ]
  },
  {
   "cell_type": "code",
   "execution_count": 10,
   "metadata": {},
   "outputs": [],
   "source": [
    "list1=[np.array([1,2]),np.array([2,3])]"
   ]
  },
  {
   "cell_type": "code",
   "execution_count": 11,
   "metadata": {},
   "outputs": [
    {
     "data": {
      "text/plain": [
       "[array([1, 2]), array([2, 3])]"
      ]
     },
     "execution_count": 11,
     "metadata": {},
     "output_type": "execute_result"
    }
   ],
   "source": [
    "list1"
   ]
  },
  {
   "cell_type": "code",
   "execution_count": 13,
   "metadata": {},
   "outputs": [
    {
     "data": {
      "text/plain": [
       "numpy.ndarray"
      ]
     },
     "execution_count": 13,
     "metadata": {},
     "output_type": "execute_result"
    }
   ],
   "source": [
    "type(list1[0])"
   ]
  },
  {
   "cell_type": "code",
   "execution_count": 17,
   "metadata": {},
   "outputs": [],
   "source": [
    "list1.append(None)"
   ]
  },
  {
   "cell_type": "code",
   "execution_count": 20,
   "metadata": {},
   "outputs": [],
   "source": [
    "list1[0]='hello'"
   ]
  },
  {
   "cell_type": "code",
   "execution_count": 21,
   "metadata": {},
   "outputs": [
    {
     "data": {
      "text/plain": [
       "['hello', array([2, 3]), None]"
      ]
     },
     "execution_count": 21,
     "metadata": {},
     "output_type": "execute_result"
    }
   ],
   "source": [
    "list1"
   ]
  },
  {
   "cell_type": "code",
   "execution_count": 22,
   "metadata": {},
   "outputs": [
    {
     "data": {
      "text/plain": [
       "array([[-0.58062728],\n",
       "       [ 0.15292112],\n",
       "       [ 0.68875592],\n",
       "       [-1.00799271]])"
      ]
     },
     "execution_count": 22,
     "metadata": {},
     "output_type": "execute_result"
    }
   ],
   "source": [
    "np.random.randn(4,1)"
   ]
  },
  {
   "cell_type": "code",
   "execution_count": null,
   "metadata": {},
   "outputs": [],
   "source": []
  }
 ],
 "metadata": {
  "kernelspec": {
   "display_name": "Python 3",
   "language": "python",
   "name": "python3"
  },
  "language_info": {
   "codemirror_mode": {
    "name": "ipython",
    "version": 3
   },
   "file_extension": ".py",
   "mimetype": "text/x-python",
   "name": "python",
   "nbconvert_exporter": "python",
   "pygments_lexer": "ipython3",
   "version": "3.7.4"
  }
 },
 "nbformat": 4,
 "nbformat_minor": 2
}
